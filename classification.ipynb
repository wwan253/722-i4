{
 "cells": [
  {
   "cell_type": "code",
   "execution_count": 3,
   "metadata": {},
   "outputs": [],
   "source": [
    "import findspark\n",
    "findspark.init('/home/ubuntu/spark-2.1.1-bin-hadoop2.7')\n",
    "import pyspark\n",
    "from pyspark.sql import SparkSession\n",
    "spark = SparkSession.builder.appName('assignment3').getOrCreate()"
   ]
  },
  {
   "cell_type": "code",
   "execution_count": 42,
   "metadata": {},
   "outputs": [],
   "source": [
    "df = spark.read.csv('WA_Fn-UseC_-Telco-Customer-Churn.csv', header=True, inferSchema=True)"
   ]
  },
  {
   "cell_type": "code",
   "execution_count": 26,
   "metadata": {
    "scrolled": true
   },
   "outputs": [
    {
     "name": "stdout",
     "output_type": "stream",
     "text": [
      "['customerID', 'gender', 'SeniorCitizen', 'Partner', 'Dependents', 'tenure', 'PhoneService', 'MultipleLines', 'InternetService', 'OnlineSecurity', 'OnlineBackup', 'DeviceProtection', 'TechSupport', 'StreamingTV', 'StreamingMovies', 'Contract', 'PaperlessBilling', 'PaymentMethod', 'MonthlyCharges', 'TotalCharges', 'Churn']\n",
      "(7043, 21)\n"
     ]
    }
   ],
   "source": [
    "print(df.columns)\n",
    "print((df.count(), len(df.columns)))"
   ]
  },
  {
   "cell_type": "code",
   "execution_count": 9,
   "metadata": {},
   "outputs": [
    {
     "name": "stdout",
     "output_type": "stream",
     "text": [
      "root\n",
      " |-- customerID: string (nullable = true)\n",
      " |-- gender: string (nullable = true)\n",
      " |-- SeniorCitizen: integer (nullable = true)\n",
      " |-- Partner: string (nullable = true)\n",
      " |-- Dependents: string (nullable = true)\n",
      " |-- tenure: integer (nullable = true)\n",
      " |-- PhoneService: string (nullable = true)\n",
      " |-- MultipleLines: string (nullable = true)\n",
      " |-- InternetService: string (nullable = true)\n",
      " |-- OnlineSecurity: string (nullable = true)\n",
      " |-- OnlineBackup: string (nullable = true)\n",
      " |-- DeviceProtection: string (nullable = true)\n",
      " |-- TechSupport: string (nullable = true)\n",
      " |-- StreamingTV: string (nullable = true)\n",
      " |-- StreamingMovies: string (nullable = true)\n",
      " |-- Contract: string (nullable = true)\n",
      " |-- PaperlessBilling: string (nullable = true)\n",
      " |-- PaymentMethod: string (nullable = true)\n",
      " |-- MonthlyCharges: double (nullable = true)\n",
      " |-- TotalCharges: string (nullable = true)\n",
      " |-- Churn: string (nullable = true)\n",
      "\n"
     ]
    }
   ],
   "source": [
    "df.printSchema()\n"
   ]
  },
  {
   "cell_type": "code",
   "execution_count": 9,
   "metadata": {},
   "outputs": [],
   "source": [
    "from pyspark.ml.linalg import Vectors\n",
    "from pyspark.ml.feature import (VectorAssembler,VectorIndexer,\n",
    "                                OneHotEncoder,StringIndexer)\n"
   ]
  },
  {
   "cell_type": "code",
   "execution_count": 50,
   "metadata": {},
   "outputs": [],
   "source": [
    "my_cols = df.select(['SeniorCitizen',\n",
    "             'Partner', \n",
    "             'Dependents',\n",
    "             'tenure', \n",
    "             'PhoneService',\n",
    "             'MultipleLines',\n",
    "             'InternetService', \n",
    "             'OnlineSecurity',\n",
    "             'OnlineBackup', \n",
    "             'DeviceProtection',\n",
    "             'TechSupport',\n",
    "             'StreamingTV', \n",
    "             'StreamingMovies',\n",
    "             'Contract',\n",
    "             'PaperlessBilling', \n",
    "             'PaymentMethod',\n",
    "             'MonthlyCharges', \n",
    "             'TotalCharges'])\n"
   ]
  },
  {
   "cell_type": "code",
   "execution_count": 43,
   "metadata": {
    "scrolled": true
   },
   "outputs": [],
   "source": [
    "Test_cols=df.select(['SeniorCitizen',\n",
    " 'Partner',\n",
    " 'tenure'])\n",
    "Partner_indexer = StringIndexer(inputCol='Partner',outputCol='PartnerIndex')\n",
    "indexed = Partner_indexer.fit(df).transform(df)\n"
   ]
  },
  {
   "cell_type": "code",
   "execution_count": 45,
   "metadata": {},
   "outputs": [
    {
     "name": "stdout",
     "output_type": "stream",
     "text": [
      "root\n",
      " |-- customerID: string (nullable = true)\n",
      " |-- gender: string (nullable = true)\n",
      " |-- SeniorCitizen: integer (nullable = true)\n",
      " |-- Partner: string (nullable = true)\n",
      " |-- Dependents: string (nullable = true)\n",
      " |-- tenure: integer (nullable = true)\n",
      " |-- PhoneService: string (nullable = true)\n",
      " |-- MultipleLines: string (nullable = true)\n",
      " |-- InternetService: string (nullable = true)\n",
      " |-- OnlineSecurity: string (nullable = true)\n",
      " |-- OnlineBackup: string (nullable = true)\n",
      " |-- DeviceProtection: string (nullable = true)\n",
      " |-- TechSupport: string (nullable = true)\n",
      " |-- StreamingTV: string (nullable = true)\n",
      " |-- StreamingMovies: string (nullable = true)\n",
      " |-- Contract: string (nullable = true)\n",
      " |-- PaperlessBilling: string (nullable = true)\n",
      " |-- PaymentMethod: string (nullable = true)\n",
      " |-- MonthlyCharges: double (nullable = true)\n",
      " |-- TotalCharges: string (nullable = true)\n",
      " |-- Churn: string (nullable = true)\n",
      " |-- PartnerIndex: double (nullable = true)\n",
      "\n"
     ]
    }
   ],
   "source": [
    "indexed.printSchema()"
   ]
  },
  {
   "cell_type": "code",
   "execution_count": 53,
   "metadata": {},
   "outputs": [
    {
     "name": "stdout",
     "output_type": "stream",
     "text": [
      "root\n",
      " |-- SeniorCitizen: long (nullable = true)\n",
      " |-- tenure: long (nullable = true)\n",
      " |-- MonthlyCharges: double (nullable = true)\n",
      " |-- TotalCharges: double (nullable = true)\n",
      " |-- Churn: long (nullable = true)\n",
      " |-- gender_Female: long (nullable = true)\n",
      " |-- gender_Male: long (nullable = true)\n",
      " |-- Partner_No: long (nullable = true)\n",
      " |-- Partner_Yes: long (nullable = true)\n",
      " |-- Dependents_No: long (nullable = true)\n",
      " |-- Dependents_Yes: long (nullable = true)\n",
      " |-- PhoneService_No: long (nullable = true)\n",
      " |-- PhoneService_Yes: long (nullable = true)\n",
      " |-- MultipleLines_No: long (nullable = true)\n",
      " |-- MultipleLines_No phone service: long (nullable = true)\n",
      " |-- MultipleLines_Yes: long (nullable = true)\n",
      " |-- InternetService_DSL: long (nullable = true)\n",
      " |-- InternetService_Fiber optic: long (nullable = true)\n",
      " |-- InternetService_No: long (nullable = true)\n",
      " |-- OnlineSecurity_No: long (nullable = true)\n",
      " |-- OnlineSecurity_No internet service: long (nullable = true)\n",
      " |-- OnlineSecurity_Yes: long (nullable = true)\n",
      " |-- OnlineBackup_No: long (nullable = true)\n",
      " |-- OnlineBackup_No internet service: long (nullable = true)\n",
      " |-- OnlineBackup_Yes: long (nullable = true)\n",
      " |-- DeviceProtection_No: long (nullable = true)\n",
      " |-- DeviceProtection_No internet service: long (nullable = true)\n",
      " |-- DeviceProtection_Yes: long (nullable = true)\n",
      " |-- TechSupport_No: long (nullable = true)\n",
      " |-- TechSupport_No internet service: long (nullable = true)\n",
      " |-- TechSupport_Yes: long (nullable = true)\n",
      " |-- StreamingTV_No: long (nullable = true)\n",
      " |-- StreamingTV_No internet service: long (nullable = true)\n",
      " |-- StreamingTV_Yes: long (nullable = true)\n",
      " |-- StreamingMovies_No: long (nullable = true)\n",
      " |-- StreamingMovies_No internet service: long (nullable = true)\n",
      " |-- StreamingMovies_Yes: long (nullable = true)\n",
      " |-- Contract_Month-to-month: long (nullable = true)\n",
      " |-- Contract_One year: long (nullable = true)\n",
      " |-- Contract_Two year: long (nullable = true)\n",
      " |-- PaperlessBilling_No: long (nullable = true)\n",
      " |-- PaperlessBilling_Yes: long (nullable = true)\n",
      " |-- PaymentMethod_Bank transfer (automatic): long (nullable = true)\n",
      " |-- PaymentMethod_Credit card (automatic): long (nullable = true)\n",
      " |-- PaymentMethod_Electronic check: long (nullable = true)\n",
      " |-- PaymentMethod_Mailed check: long (nullable = true)\n",
      "\n",
      "+-------------+------+--------------+------------+-----+-------------+-----------+----------+-----------+-------------+--------------+---------------+----------------+----------------+------------------------------+-----------------+-------------------+---------------------------+------------------+-----------------+----------------------------------+------------------+---------------+--------------------------------+----------------+-------------------+------------------------------------+--------------------+--------------+-------------------------------+---------------+--------------+-------------------------------+---------------+------------------+-----------------------------------+-------------------+-----------------------+-----------------+-----------------+-------------------+--------------------+---------------------------------------+-------------------------------------+------------------------------+--------------------------+\n",
      "|SeniorCitizen|tenure|MonthlyCharges|TotalCharges|Churn|gender_Female|gender_Male|Partner_No|Partner_Yes|Dependents_No|Dependents_Yes|PhoneService_No|PhoneService_Yes|MultipleLines_No|MultipleLines_No phone service|MultipleLines_Yes|InternetService_DSL|InternetService_Fiber optic|InternetService_No|OnlineSecurity_No|OnlineSecurity_No internet service|OnlineSecurity_Yes|OnlineBackup_No|OnlineBackup_No internet service|OnlineBackup_Yes|DeviceProtection_No|DeviceProtection_No internet service|DeviceProtection_Yes|TechSupport_No|TechSupport_No internet service|TechSupport_Yes|StreamingTV_No|StreamingTV_No internet service|StreamingTV_Yes|StreamingMovies_No|StreamingMovies_No internet service|StreamingMovies_Yes|Contract_Month-to-month|Contract_One year|Contract_Two year|PaperlessBilling_No|PaperlessBilling_Yes|PaymentMethod_Bank transfer (automatic)|PaymentMethod_Credit card (automatic)|PaymentMethod_Electronic check|PaymentMethod_Mailed check|\n",
      "+-------------+------+--------------+------------+-----+-------------+-----------+----------+-----------+-------------+--------------+---------------+----------------+----------------+------------------------------+-----------------+-------------------+---------------------------+------------------+-----------------+----------------------------------+------------------+---------------+--------------------------------+----------------+-------------------+------------------------------------+--------------------+--------------+-------------------------------+---------------+--------------+-------------------------------+---------------+------------------+-----------------------------------+-------------------+-----------------------+-----------------+-----------------+-------------------+--------------------+---------------------------------------+-------------------------------------+------------------------------+--------------------------+\n",
      "|            0|     1|         29.85|       29.85|    0|            1|          0|         0|          1|            1|             0|              1|               0|               0|                             1|                0|                  1|                          0|                 0|                1|                                 0|                 0|              0|                               0|               1|                  1|                                   0|                   0|             1|                              0|              0|             1|                              0|              0|                 1|                                  0|                  0|                      1|                0|                0|                  0|                   1|                                      0|                                    0|                             1|                         0|\n",
      "|            0|    34|         56.95|      1889.5|    0|            0|          1|         1|          0|            1|             0|              0|               1|               1|                             0|                0|                  1|                          0|                 0|                0|                                 0|                 1|              1|                               0|               0|                  0|                                   0|                   1|             1|                              0|              0|             1|                              0|              0|                 1|                                  0|                  0|                      0|                1|                0|                  1|                   0|                                      0|                                    0|                             0|                         1|\n",
      "|            0|     2|         53.85|      108.15|    1|            0|          1|         1|          0|            1|             0|              0|               1|               1|                             0|                0|                  1|                          0|                 0|                0|                                 0|                 1|              0|                               0|               1|                  1|                                   0|                   0|             1|                              0|              0|             1|                              0|              0|                 1|                                  0|                  0|                      1|                0|                0|                  0|                   1|                                      0|                                    0|                             0|                         1|\n",
      "|            0|    45|          42.3|     1840.75|    0|            0|          1|         1|          0|            1|             0|              1|               0|               0|                             1|                0|                  1|                          0|                 0|                0|                                 0|                 1|              1|                               0|               0|                  0|                                   0|                   1|             0|                              0|              1|             1|                              0|              0|                 1|                                  0|                  0|                      0|                1|                0|                  1|                   0|                                      1|                                    0|                             0|                         0|\n",
      "|            0|     2|          70.7|      151.65|    1|            1|          0|         1|          0|            1|             0|              0|               1|               1|                             0|                0|                  0|                          1|                 0|                1|                                 0|                 0|              1|                               0|               0|                  1|                                   0|                   0|             1|                              0|              0|             1|                              0|              0|                 1|                                  0|                  0|                      1|                0|                0|                  0|                   1|                                      0|                                    0|                             1|                         0|\n",
      "|            0|     8|         99.65|       820.5|    1|            1|          0|         1|          0|            1|             0|              0|               1|               0|                             0|                1|                  0|                          1|                 0|                1|                                 0|                 0|              1|                               0|               0|                  0|                                   0|                   1|             1|                              0|              0|             0|                              0|              1|                 0|                                  0|                  1|                      1|                0|                0|                  0|                   1|                                      0|                                    0|                             1|                         0|\n",
      "|            0|    22|          89.1|      1949.4|    0|            0|          1|         1|          0|            0|             1|              0|               1|               0|                             0|                1|                  0|                          1|                 0|                1|                                 0|                 0|              0|                               0|               1|                  1|                                   0|                   0|             1|                              0|              0|             0|                              0|              1|                 1|                                  0|                  0|                      1|                0|                0|                  0|                   1|                                      0|                                    1|                             0|                         0|\n",
      "|            0|    10|         29.75|       301.9|    0|            1|          0|         1|          0|            1|             0|              1|               0|               0|                             1|                0|                  1|                          0|                 0|                0|                                 0|                 1|              1|                               0|               0|                  1|                                   0|                   0|             1|                              0|              0|             1|                              0|              0|                 1|                                  0|                  0|                      1|                0|                0|                  1|                   0|                                      0|                                    0|                             0|                         1|\n",
      "|            0|    28|         104.8|     3046.05|    1|            1|          0|         0|          1|            1|             0|              0|               1|               0|                             0|                1|                  0|                          1|                 0|                1|                                 0|                 0|              1|                               0|               0|                  0|                                   0|                   1|             0|                              0|              1|             0|                              0|              1|                 0|                                  0|                  1|                      1|                0|                0|                  0|                   1|                                      0|                                    0|                             1|                         0|\n",
      "|            0|    62|         56.15|     3487.95|    0|            0|          1|         1|          0|            0|             1|              0|               1|               1|                             0|                0|                  1|                          0|                 0|                0|                                 0|                 1|              0|                               0|               1|                  1|                                   0|                   0|             1|                              0|              0|             1|                              0|              0|                 1|                                  0|                  0|                      0|                1|                0|                  1|                   0|                                      1|                                    0|                             0|                         0|\n",
      "|            0|    13|         49.95|      587.45|    0|            0|          1|         0|          1|            0|             1|              0|               1|               1|                             0|                0|                  1|                          0|                 0|                0|                                 0|                 1|              1|                               0|               0|                  1|                                   0|                   0|             1|                              0|              0|             1|                              0|              0|                 1|                                  0|                  0|                      1|                0|                0|                  0|                   1|                                      0|                                    0|                             0|                         1|\n",
      "|            0|    16|         18.95|       326.8|    0|            0|          1|         1|          0|            1|             0|              0|               1|               1|                             0|                0|                  0|                          0|                 1|                0|                                 1|                 0|              0|                               1|               0|                  0|                                   1|                   0|             0|                              1|              0|             0|                              1|              0|                 0|                                  1|                  0|                      0|                0|                1|                  1|                   0|                                      0|                                    1|                             0|                         0|\n",
      "|            0|    58|        100.35|      5681.1|    0|            0|          1|         0|          1|            1|             0|              0|               1|               0|                             0|                1|                  0|                          1|                 0|                1|                                 0|                 0|              1|                               0|               0|                  0|                                   0|                   1|             1|                              0|              0|             0|                              0|              1|                 0|                                  0|                  1|                      0|                1|                0|                  1|                   0|                                      0|                                    1|                             0|                         0|\n",
      "|            0|    49|         103.7|      5036.3|    1|            0|          1|         1|          0|            1|             0|              0|               1|               0|                             0|                1|                  0|                          1|                 0|                1|                                 0|                 0|              0|                               0|               1|                  0|                                   0|                   1|             1|                              0|              0|             0|                              0|              1|                 0|                                  0|                  1|                      1|                0|                0|                  0|                   1|                                      1|                                    0|                             0|                         0|\n",
      "|            0|    25|         105.5|     2686.05|    0|            0|          1|         1|          0|            1|             0|              0|               1|               1|                             0|                0|                  0|                          1|                 0|                0|                                 0|                 1|              1|                               0|               0|                  0|                                   0|                   1|             0|                              0|              1|             0|                              0|              1|                 0|                                  0|                  1|                      1|                0|                0|                  0|                   1|                                      0|                                    0|                             1|                         0|\n",
      "|            0|    69|        113.25|     7895.15|    0|            1|          0|         0|          1|            0|             1|              0|               1|               0|                             0|                1|                  0|                          1|                 0|                0|                                 0|                 1|              0|                               0|               1|                  0|                                   0|                   1|             0|                              0|              1|             0|                              0|              1|                 0|                                  0|                  1|                      0|                0|                1|                  1|                   0|                                      0|                                    1|                             0|                         0|\n",
      "|            0|    52|         20.65|     1022.95|    0|            1|          0|         1|          0|            1|             0|              0|               1|               1|                             0|                0|                  0|                          0|                 1|                0|                                 1|                 0|              0|                               1|               0|                  0|                                   1|                   0|             0|                              1|              0|             0|                              1|              0|                 0|                                  1|                  0|                      0|                1|                0|                  1|                   0|                                      0|                                    0|                             0|                         1|\n",
      "|            0|    71|         106.7|     7382.25|    0|            0|          1|         1|          0|            0|             1|              0|               1|               0|                             0|                1|                  0|                          1|                 0|                0|                                 0|                 1|              1|                               0|               0|                  0|                                   0|                   1|             1|                              0|              0|             0|                              0|              1|                 0|                                  0|                  1|                      0|                0|                1|                  1|                   0|                                      1|                                    0|                             0|                         0|\n",
      "|            0|    10|          55.2|      528.35|    1|            1|          0|         0|          1|            0|             1|              0|               1|               1|                             0|                0|                  1|                          0|                 0|                1|                                 0|                 0|              1|                               0|               0|                  0|                                   0|                   1|             0|                              0|              1|             1|                              0|              0|                 1|                                  0|                  0|                      1|                0|                0|                  1|                   0|                                      0|                                    1|                             0|                         0|\n",
      "|            0|    21|         90.05|      1862.9|    0|            1|          0|         1|          0|            1|             0|              0|               1|               1|                             0|                0|                  0|                          1|                 0|                1|                                 0|                 0|              0|                               0|               1|                  0|                                   0|                   1|             1|                              0|              0|             1|                              0|              0|                 0|                                  0|                  1|                      1|                0|                0|                  0|                   1|                                      0|                                    0|                             1|                         0|\n",
      "+-------------+------+--------------+------------+-----+-------------+-----------+----------+-----------+-------------+--------------+---------------+----------------+----------------+------------------------------+-----------------+-------------------+---------------------------+------------------+-----------------+----------------------------------+------------------+---------------+--------------------------------+----------------+-------------------+------------------------------------+--------------------+--------------+-------------------------------+---------------+--------------+-------------------------------+---------------+------------------+-----------------------------------+-------------------+-----------------------+-----------------+-----------------+-------------------+--------------------+---------------------------------------+-------------------------------------+------------------------------+--------------------------+\n",
      "only showing top 20 rows\n",
      "\n"
     ]
    }
   ],
   "source": [
    "import pandas as pd\n",
    "\n",
    "df = pd.read_csv(\"WA_Fn-UseC_-Telco-Customer-Churn.csv\")\n",
    "df[\"MonthlyCharges\"] = df[\"MonthlyCharges\"].apply(float)\n",
    "df[\"TotalCharges\"] = df[\"TotalCharges\"].replace(' ',None)\n",
    "df[\"TotalCharges\"] = df[\"TotalCharges\"].apply(float)\n",
    "\n",
    "df.dropna(inplace=True)\n",
    "df = df.iloc[:,1:]\n",
    "df['Churn'].replace(to_replace='Yes',value=1,inplace=True)\n",
    "df['Churn'].replace(to_replace='No',value=0,inplace=True)\n",
    "df = pd.get_dummies(df)\n",
    "df = df.apply(pd.to_numeric)\n",
    "\n",
    "df3 = spark.createDataFrame(df)\n",
    "df3.printSchema()\n",
    "df3.show()"
   ]
  },
  {
   "cell_type": "code",
   "execution_count": 54,
   "metadata": {},
   "outputs": [
    {
     "data": {
      "text/plain": [
       "['SeniorCitizen',\n",
       " 'tenure',\n",
       " 'MonthlyCharges',\n",
       " 'TotalCharges',\n",
       " 'Churn',\n",
       " 'gender_Female',\n",
       " 'gender_Male',\n",
       " 'Partner_No',\n",
       " 'Partner_Yes',\n",
       " 'Dependents_No',\n",
       " 'Dependents_Yes',\n",
       " 'PhoneService_No',\n",
       " 'PhoneService_Yes',\n",
       " 'MultipleLines_No',\n",
       " 'MultipleLines_No phone service',\n",
       " 'MultipleLines_Yes',\n",
       " 'InternetService_DSL',\n",
       " 'InternetService_Fiber optic',\n",
       " 'InternetService_No',\n",
       " 'OnlineSecurity_No',\n",
       " 'OnlineSecurity_No internet service',\n",
       " 'OnlineSecurity_Yes',\n",
       " 'OnlineBackup_No',\n",
       " 'OnlineBackup_No internet service',\n",
       " 'OnlineBackup_Yes',\n",
       " 'DeviceProtection_No',\n",
       " 'DeviceProtection_No internet service',\n",
       " 'DeviceProtection_Yes',\n",
       " 'TechSupport_No',\n",
       " 'TechSupport_No internet service',\n",
       " 'TechSupport_Yes',\n",
       " 'StreamingTV_No',\n",
       " 'StreamingTV_No internet service',\n",
       " 'StreamingTV_Yes',\n",
       " 'StreamingMovies_No',\n",
       " 'StreamingMovies_No internet service',\n",
       " 'StreamingMovies_Yes',\n",
       " 'Contract_Month-to-month',\n",
       " 'Contract_One year',\n",
       " 'Contract_Two year',\n",
       " 'PaperlessBilling_No',\n",
       " 'PaperlessBilling_Yes',\n",
       " 'PaymentMethod_Bank transfer (automatic)',\n",
       " 'PaymentMethod_Credit card (automatic)',\n",
       " 'PaymentMethod_Electronic check',\n",
       " 'PaymentMethod_Mailed check']"
      ]
     },
     "execution_count": 54,
     "metadata": {},
     "output_type": "execute_result"
    }
   ],
   "source": [
    "df3.columns\n",
    "\n"
   ]
  },
  {
   "cell_type": "code",
   "execution_count": 55,
   "metadata": {},
   "outputs": [],
   "source": [
    "assembler = VectorAssembler(\n",
    "  inputCols=['SeniorCitizen',\n",
    " 'tenure',\n",
    " 'MonthlyCharges',\n",
    " 'TotalCharges',\n",
    " 'gender_Female',\n",
    " 'gender_Male',\n",
    " 'Partner_No',\n",
    " 'Partner_Yes',\n",
    " 'Dependents_No',\n",
    " 'Dependents_Yes',\n",
    " 'PhoneService_No',\n",
    " 'PhoneService_Yes',\n",
    " 'MultipleLines_No',\n",
    " 'MultipleLines_No phone service',\n",
    " 'MultipleLines_Yes',\n",
    " 'InternetService_DSL',\n",
    " 'InternetService_Fiber optic',\n",
    " 'InternetService_No',\n",
    " 'OnlineSecurity_No',\n",
    " 'OnlineSecurity_No internet service',\n",
    " 'OnlineSecurity_Yes',\n",
    " 'OnlineBackup_No',\n",
    " 'OnlineBackup_No internet service',\n",
    " 'OnlineBackup_Yes',\n",
    " 'DeviceProtection_No',\n",
    " 'DeviceProtection_No internet service',\n",
    " 'DeviceProtection_Yes',\n",
    " 'TechSupport_No',\n",
    " 'TechSupport_No internet service',\n",
    " 'TechSupport_Yes',\n",
    " 'StreamingTV_No',\n",
    " 'StreamingTV_No internet service',\n",
    " 'StreamingTV_Yes',\n",
    " 'StreamingMovies_No',\n",
    " 'StreamingMovies_No internet service',\n",
    " 'StreamingMovies_Yes',\n",
    " 'Contract_Month-to-month',\n",
    " 'Contract_One year',\n",
    " 'Contract_Two year',\n",
    " 'PaperlessBilling_No',\n",
    " 'PaperlessBilling_Yes',\n",
    " 'PaymentMethod_Bank transfer (automatic)',\n",
    " 'PaymentMethod_Credit card (automatic)',\n",
    " 'PaymentMethod_Electronic check',\n",
    " 'PaymentMethod_Mailed check'],\n",
    "              outputCol=\"features\")"
   ]
  },
  {
   "cell_type": "code",
   "execution_count": 56,
   "metadata": {},
   "outputs": [],
   "source": [
    "output = assembler.transform(df3)"
   ]
  },
  {
   "cell_type": "code",
   "execution_count": 57,
   "metadata": {},
   "outputs": [],
   "source": [
    "final_data = output.select(\"features\",'Churn')"
   ]
  },
  {
   "cell_type": "code",
   "execution_count": 58,
   "metadata": {},
   "outputs": [],
   "source": [
    "train_data,test_data = final_data.randomSplit([0.8,0.2],seed=253)"
   ]
  },
  {
   "cell_type": "code",
   "execution_count": 71,
   "metadata": {},
   "outputs": [],
   "source": [
    "from pyspark.ml.classification import DecisionTreeClassifier,GBTClassifier,RandomForestClassifier\n",
    "from pyspark.ml import Pipeline\n",
    "\n",
    "dtc1 = DecisionTreeClassifier(labelCol='Churn',featuresCol='features',maxDepth=5,impurity=\"gini\")\n",
    "dtc2 = DecisionTreeClassifier(labelCol='Churn',featuresCol='features',maxDepth=10,impurity=\"gini\")\n",
    "dtc3 = DecisionTreeClassifier(labelCol='Churn',featuresCol='features',maxDepth=5,impurity=\"entropy\")\n",
    "dtc4 = DecisionTreeClassifier(labelCol='Churn',featuresCol='features',maxDepth=10,impurity=\"entropy\")\n",
    "dtc_model1 = dtc1.fit(train_data)\n",
    "dtc_model2 = dtc2.fit(train_data)\n",
    "dtc_model3 = dtc3.fit(train_data)\n",
    "dtc_model4 = dtc4.fit(train_data)\n",
    "dtc_predictions1 = dtc_model1.transform(test_data)\n",
    "dtc_predictions2 = dtc_model2.transform(test_data)\n",
    "dtc_predictions3 = dtc_model3.transform(test_data)\n",
    "dtc_predictions4 = dtc_model4.transform(test_data)"
   ]
  },
  {
   "cell_type": "code",
   "execution_count": 72,
   "metadata": {
    "scrolled": true
   },
   "outputs": [
    {
     "name": "stdout",
     "output_type": "stream",
     "text": [
      "dtc1 decision tree has an accuracy of: 78.39%\n",
      "dtc1 decision tree has an accuracy of: 75.27%\n",
      "dtc1 decision tree has an accuracy of: 78.39%\n",
      "dtc1 decision tree has an accuracy of: 76.19%\n"
     ]
    }
   ],
   "source": [
    "from pyspark.ml.evaluation import MulticlassClassificationEvaluator\n",
    "acc_evaluator = MulticlassClassificationEvaluator(labelCol=\"Churn\", predictionCol=\"prediction\", metricName=\"accuracy\")\n",
    "dtc_acc1 = acc_evaluator.evaluate(dtc_predictions1)\n",
    "dtc_acc2 = acc_evaluator.evaluate(dtc_predictions2)\n",
    "dtc_acc3 = acc_evaluator.evaluate(dtc_predictions3)\n",
    "dtc_acc4 = acc_evaluator.evaluate(dtc_predictions4)\n",
    "print('dtc1 decision tree has an accuracy of: {0:2.2f}%'.format(dtc_acc1*100))\n",
    "print('dtc2 decision tree has an accuracy of: {0:2.2f}%'.format(dtc_acc2*100))\n",
    "print('dtc3 decision tree has an accuracy of: {0:2.2f}%'.format(dtc_acc3*100))\n",
    "print('dtc4 decision tree has an accuracy of: {0:2.2f}%'.format(dtc_acc4*100))"
   ]
  },
  {
   "cell_type": "code",
   "execution_count": 74,
   "metadata": {
    "scrolled": true
   },
   "outputs": [
    {
     "name": "stdout",
     "output_type": "stream",
     "text": [
      "dtc1\n",
      "0.8105893932376099\n",
      "dtc2\n",
      "0.7650759208168033\n",
      "dtc3\n",
      "0.8137561169623619\n",
      "dtc4\n",
      "0.7467527236844755\n"
     ]
    }
   ],
   "source": [
    "from pyspark.ml.evaluation import BinaryClassificationEvaluator\n",
    "my_binary_eval = BinaryClassificationEvaluator(labelCol = 'Churn')\n",
    "print(\"dtc1\")\n",
    "print(my_binary_eval.evaluate(dtc_predictions1))\n",
    "print(\"dtc2\")\n",
    "print(my_binary_eval.evaluate(dtc_predictions2))\n",
    "print(\"dtc3\")\n",
    "print(my_binary_eval.evaluate(dtc_predictions3))\n",
    "print(\"dtc4\")\n",
    "print(my_binary_eval.evaluate(dtc_predictions4))"
   ]
  },
  {
   "cell_type": "code",
   "execution_count": 76,
   "metadata": {},
   "outputs": [],
   "source": [
    "rfc1 = RandomForestClassifier(labelCol='Churn',featuresCol='features',numTrees=3, maxDepth=2)\n",
    "rfc2 = RandomForestClassifier(labelCol='Churn',featuresCol='features',numTrees=6, maxDepth=2)\n",
    "rfc3 = RandomForestClassifier(labelCol='Churn',featuresCol='features',numTrees=3, maxDepth=5)\n",
    "rfc4 = RandomForestClassifier(labelCol='Churn',featuresCol='features',numTrees=6, maxDepth=5)\n",
    "rfc_model1 = rfc1.fit(train_data)\n",
    "rfc_model2 = rfc2.fit(train_data)\n",
    "rfc_model3 = rfc3.fit(train_data)\n",
    "rfc_model4 = rfc4.fit(train_data)\n",
    "rfc_predictions1 = rfc_model1.transform(test_data)\n",
    "rfc_predictions2 = rfc_model2.transform(test_data)\n",
    "rfc_predictions3 = rfc_model3.transform(test_data)\n",
    "rfc_predictions4 = rfc_model4.transform(test_data)"
   ]
  },
  {
   "cell_type": "code",
   "execution_count": 78,
   "metadata": {},
   "outputs": [
    {
     "name": "stdout",
     "output_type": "stream",
     "text": [
      "rfc1 random forest ensemble has an accuracy of: 77.68%\n",
      "rfc2 random forest ensemble has an accuracy of: 77.26%\n",
      "rfc3 random forest ensemble has an accuracy of: 78.18%\n",
      "rfc4 random forest ensemble has an accuracy of: 77.97%\n"
     ]
    }
   ],
   "source": [
    "from pyspark.ml.evaluation import MulticlassClassificationEvaluator\n",
    "rfc_acc1 = acc_evaluator.evaluate(rfc_predictions1)\n",
    "rfc_acc2 = acc_evaluator.evaluate(rfc_predictions2)\n",
    "rfc_acc3 = acc_evaluator.evaluate(rfc_predictions3)\n",
    "rfc_acc4 = acc_evaluator.evaluate(rfc_predictions4)\n",
    "print('rfc1 random forest ensemble has an accuracy of: {0:2.2f}%'.format(rfc_acc1*100))\n",
    "print('rfc2 random forest ensemble has an accuracy of: {0:2.2f}%'.format(rfc_acc2*100))\n",
    "print('rfc3 random forest ensemble has an accuracy of: {0:2.2f}%'.format(rfc_acc3*100))\n",
    "print('rfc4 random forest ensemble has an accuracy of: {0:2.2f}%'.format(rfc_acc4*100))"
   ]
  },
  {
   "cell_type": "code",
   "execution_count": 79,
   "metadata": {},
   "outputs": [
    {
     "name": "stdout",
     "output_type": "stream",
     "text": [
      "rfc1\n",
      "0.8067203516120586\n",
      "rfc2\n",
      "0.8277143705821938\n",
      "rfc3\n",
      "0.8351491229836683\n",
      "rfc4\n",
      "0.8363347564291027\n"
     ]
    }
   ],
   "source": [
    "from pyspark.ml.evaluation import BinaryClassificationEvaluator\n",
    "print(\"rfc1\")\n",
    "print(my_binary_eval.evaluate(rfc_predictions1))\n",
    "print(\"rfc2\")\n",
    "print(my_binary_eval.evaluate(rfc_predictions2))\n",
    "print(\"rfc3\")\n",
    "print(my_binary_eval.evaluate(rfc_predictions3))\n",
    "print(\"rfc4\")\n",
    "print(my_binary_eval.evaluate(rfc_predictions4))"
   ]
  },
  {
   "cell_type": "code",
   "execution_count": 116,
   "metadata": {},
   "outputs": [
    {
     "name": "stdout",
     "output_type": "stream",
     "text": [
      "(45,[1,2,3,18,19,36,37],[0.13417791102210752,0.11668530057119986,0.21924644406868646,0.1840335479334817,0.1494339308994707,0.19407050592565714,0.0023523595793965893])\n",
      "TotalCharges StreamingMovies_Yes InternetService_No OnlineSecurity_No tenure MonthlyCharges Contract_Month-to-month\n"
     ]
    }
   ],
   "source": [
    "print(rfc_model1.featureImportances)\n",
    "\n",
    "print(df3.columns[3],\n",
    "df3.columns[36],\n",
    "df3.columns[18],\n",
    "df3.columns[19],\n",
    "df3.columns[1],\n",
    "df3.columns[2],\n",
    "df3.columns[37])"
   ]
  },
  {
   "cell_type": "code",
   "execution_count": 84,
   "metadata": {},
   "outputs": [],
   "source": [
    "gbt1 = GBTClassifier(labelCol='Churn',featuresCol='features',maxIter=5, maxDepth=2)\n",
    "gbt2 = GBTClassifier(labelCol='Churn',featuresCol='features',maxIter=8, maxDepth=2)\n",
    "gbt3 = GBTClassifier(labelCol='Churn',featuresCol='features',maxIter=5, maxDepth=5)\n",
    "gbt4 = GBTClassifier(labelCol='Churn',featuresCol='features',maxIter=8, maxDepth=5)\n",
    "gbt_model1 = gbt1.fit(train_data)\n",
    "gbt_model2 = gbt2.fit(train_data)\n",
    "gbt_model3 = gbt3.fit(train_data)\n",
    "gbt_model4 = gbt4.fit(train_data)\n",
    "gbt_predictions1 = gbt_model1.transform(test_data)\n",
    "gbt_predictions2 = gbt_model2.transform(test_data)\n",
    "gbt_predictions3 = gbt_model3.transform(test_data)\n",
    "gbt_predictions4 = gbt_model4.transform(test_data)"
   ]
  },
  {
   "cell_type": "code",
   "execution_count": 85,
   "metadata": {},
   "outputs": [
    {
     "name": "stdout",
     "output_type": "stream",
     "text": [
      "gbt1 random forest ensemble has an accuracy of: 79.39%\n",
      "gbt2 random forest ensemble has an accuracy of: 78.18%\n",
      "gbt3 random forest ensemble has an accuracy of: 79.89%\n",
      "gbt4 random forest ensemble has an accuracy of: 79.53%\n"
     ]
    }
   ],
   "source": [
    "gbt_acc1 = acc_evaluator.evaluate(gbt_predictions1)\n",
    "gbt_acc2 = acc_evaluator.evaluate(gbt_predictions2)\n",
    "gbt_acc3 = acc_evaluator.evaluate(gbt_predictions3)\n",
    "gbt_acc4 = acc_evaluator.evaluate(gbt_predictions4)\n",
    "print('gbt1 random forest ensemble has an accuracy of: {0:2.2f}%'.format(gbt_acc1*100))\n",
    "print('gbt2 random forest ensemble has an accuracy of: {0:2.2f}%'.format(gbt_acc2*100))\n",
    "print('gbt3 random forest ensemble has an accuracy of: {0:2.2f}%'.format(gbt_acc3*100))\n",
    "print('gbt4 random forest ensemble has an accuracy of: {0:2.2f}%'.format(gbt_acc4*100))"
   ]
  },
  {
   "cell_type": "code",
   "execution_count": 87,
   "metadata": {},
   "outputs": [
    {
     "name": "stdout",
     "output_type": "stream",
     "text": [
      "gbt1\n",
      "0.6991675393197333\n",
      "gbt2\n",
      "0.658548895422599\n",
      "gbt3\n",
      "0.7159854099119962\n",
      "gbt4\n",
      "0.7119514872022071\n"
     ]
    }
   ],
   "source": [
    "my_binary_gbt_eval = BinaryClassificationEvaluator(labelCol='Churn', rawPredictionCol='prediction')\n",
    "print(\"gbt1\")\n",
    "print(my_binary_gbt_eval.evaluate(gbt_predictions1))\n",
    "print(\"gbt2\")\n",
    "print(my_binary_gbt_eval.evaluate(gbt_predictions2))\n",
    "print(\"gbt3\")\n",
    "print(my_binary_gbt_eval.evaluate(gbt_predictions3))\n",
    "print(\"gbt4\")\n",
    "print(my_binary_gbt_eval.evaluate(gbt_predictions4))"
   ]
  },
  {
   "cell_type": "code",
   "execution_count": 88,
   "metadata": {},
   "outputs": [
    {
     "name": "stdout",
     "output_type": "stream",
     "text": [
      "dtc1 decision tree has an accuracy of: 78.39%\n",
      "rfc3 random forest ensemble has an accuracy of: 78.18%\n",
      "gbt3 random forest ensemble has an accuracy of: 79.89%\n"
     ]
    }
   ],
   "source": [
    "print('dtc1 decision tree has an accuracy of: {0:2.2f}%'.format(dtc_acc1*100))\n",
    "print('rfc3 random forest ensemble has an accuracy of: {0:2.2f}%'.format(rfc_acc3*100))\n",
    "print('gbt3 random forest ensemble has an accuracy of: {0:2.2f}%'.format(gbt_acc3*100))"
   ]
  },
  {
   "cell_type": "code",
   "execution_count": 89,
   "metadata": {},
   "outputs": [
    {
     "name": "stdout",
     "output_type": "stream",
     "text": [
      "dtc1\n",
      "0.8105893932376099\n",
      "rfc3\n",
      "0.8351491229836683\n",
      "gbt3\n",
      "0.7159854099119962\n"
     ]
    }
   ],
   "source": [
    "print(\"dtc1\")\n",
    "print(my_binary_eval.evaluate(dtc_predictions1))\n",
    "print(\"rfc3\")\n",
    "print(my_binary_eval.evaluate(rfc_predictions3))\n",
    "print(\"gbt3\")\n",
    "print(my_binary_gbt_eval.evaluate(gbt_predictions3))"
   ]
  },
  {
   "cell_type": "code",
   "execution_count": 119,
   "metadata": {},
   "outputs": [
    {
     "data": {
      "text/plain": [
       "<Figure size 640x480 with 1 Axes>"
      ]
     },
     "metadata": {},
     "output_type": "display_data"
    }
   ],
   "source": [
    "import matplotlib.pyplot as plt\n",
    "test = []\n",
    "for i in range(20):\n",
    "    dtc =  DecisionTreeClassifier(labelCol='Churn',featuresCol='features',maxDepth=i+1,impurity=\"gini\")\n",
    "    dtc_model = dtc.fit(train_data)\n",
    "    dtc_predictions = dtc_model.transform(test_data)\n",
    "    acc = acc_evaluator.evaluate(dtc_predictions)\n",
    "    test.append(acc)\n",
    "    \n",
    "plt.figure()\n",
    "\n",
    "plt.plot(range(1,21),test,color=\"red\",label=\"max_depth\")\n",
    "plt.legend()\n",
    "plt.show()"
   ]
  },
  {
   "cell_type": "code",
   "execution_count": 120,
   "metadata": {},
   "outputs": [],
   "source": [
    "train_data,test_data = final_data.randomSplit([0.7,0.3],seed=253)"
   ]
  },
  {
   "cell_type": "code",
   "execution_count": 121,
   "metadata": {},
   "outputs": [
    {
     "name": "stdout",
     "output_type": "stream",
     "text": [
      "dtc1 decision tree has an accuracy of: 78.57%\n",
      "dtc2 decision tree has an accuracy of: 75.68%\n",
      "dtc3 decision tree has an accuracy of: 78.57%\n",
      "dtc4 decision tree has an accuracy of: 77.59%\n"
     ]
    }
   ],
   "source": [
    "dtc1 = DecisionTreeClassifier(labelCol='Churn',featuresCol='features',maxDepth=5,impurity=\"gini\")\n",
    "dtc2 = DecisionTreeClassifier(labelCol='Churn',featuresCol='features',maxDepth=10,impurity=\"gini\")\n",
    "dtc3 = DecisionTreeClassifier(labelCol='Churn',featuresCol='features',maxDepth=5,impurity=\"entropy\")\n",
    "dtc4 = DecisionTreeClassifier(labelCol='Churn',featuresCol='features',maxDepth=10,impurity=\"entropy\")\n",
    "dtc_model1 = dtc1.fit(train_data)\n",
    "dtc_model2 = dtc2.fit(train_data)\n",
    "dtc_model3 = dtc3.fit(train_data)\n",
    "dtc_model4 = dtc4.fit(train_data)\n",
    "dtc_predictions1 = dtc_model1.transform(test_data)\n",
    "dtc_predictions2 = dtc_model2.transform(test_data)\n",
    "dtc_predictions3 = dtc_model3.transform(test_data)\n",
    "dtc_predictions4 = dtc_model4.transform(test_data)\n",
    "dtc_acc1 = acc_evaluator.evaluate(dtc_predictions1)\n",
    "dtc_acc2 = acc_evaluator.evaluate(dtc_predictions2)\n",
    "dtc_acc3 = acc_evaluator.evaluate(dtc_predictions3)\n",
    "dtc_acc4 = acc_evaluator.evaluate(dtc_predictions4)\n",
    "print('dtc1 decision tree has an accuracy of: {0:2.2f}%'.format(dtc_acc1*100))\n",
    "print('dtc2 decision tree has an accuracy of: {0:2.2f}%'.format(dtc_acc2*100))\n",
    "print('dtc3 decision tree has an accuracy of: {0:2.2f}%'.format(dtc_acc3*100))\n",
    "print('dtc4 decision tree has an accuracy of: {0:2.2f}%'.format(dtc_acc4*100))"
   ]
  },
  {
   "cell_type": "code",
   "execution_count": null,
   "metadata": {},
   "outputs": [],
   "source": []
  }
 ],
 "metadata": {
  "kernelspec": {
   "display_name": "Python 3",
   "language": "python",
   "name": "python3"
  },
  "language_info": {
   "codemirror_mode": {
    "name": "ipython",
    "version": 3
   },
   "file_extension": ".py",
   "mimetype": "text/x-python",
   "name": "python",
   "nbconvert_exporter": "python",
   "pygments_lexer": "ipython3",
   "version": "3.5.2"
  }
 },
 "nbformat": 4,
 "nbformat_minor": 2
}
